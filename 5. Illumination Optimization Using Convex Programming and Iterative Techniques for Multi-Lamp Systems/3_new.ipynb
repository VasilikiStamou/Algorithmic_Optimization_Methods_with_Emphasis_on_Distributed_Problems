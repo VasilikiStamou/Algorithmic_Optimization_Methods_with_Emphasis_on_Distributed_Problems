{
 "cells": [
  {
   "cell_type": "markdown",
   "metadata": {},
   "source": [
    "## Problem Setup"
   ]
  },
  {
   "cell_type": "code",
   "execution_count": 1,
   "metadata": {},
   "outputs": [],
   "source": [
    "import numpy as np\n",
    "from scipy.optimize import minimize\n",
    "\n",
    "# Initialize random seed based on student number\n",
    "student_number = 1059543\n",
    "np.random.seed(student_number)\n",
    "\n",
    "# Define problem parameters\n",
    "m = 5  # number of lamps\n",
    "n = 5  # number of surfaces\n",
    "\n",
    "# Generate random angles theta_k uniformly in [-pi/10, pi/10]\n",
    "theta_k = np.random.uniform(-np.pi / 10, np.pi / 10, n)\n",
    "\n",
    "# Generate random distances r_kj uniformly in [0.9, 1.1]\n",
    "r_kj = np.random.uniform(0.9, 1.1, (n, m))\n",
    "\n",
    "# Set pmax and Ides with arbitrary values\n",
    "pmax = 100\n",
    "Ides = 50"
   ]
  },
  {
   "cell_type": "markdown",
   "metadata": {},
   "source": [
    "## 3.1"
   ]
  },
  {
   "cell_type": "code",
   "execution_count": 2,
   "metadata": {},
   "outputs": [
    {
     "name": "stdout",
     "output_type": "stream",
     "text": [
      "Optimal power p: 10.108241457539853\n",
      "Minimum cost: 0.06504160437078088\n",
      "Intensity values Ik: [53.36017114 50.41699713 49.96880001 51.51014657 46.8514239 ]\n"
     ]
    }
   ],
   "source": [
    "# Define function to compute akj based on the problem definition\n",
    "def compute_akj(r_kj, theta_k):\n",
    "    cos_theta = np.maximum(np.cos(theta_k), 0)\n",
    "    akj = (1 / r_kj**2) * cos_theta[:, np.newaxis]\n",
    "    return akj\n",
    "\n",
    "# Compute akj for all surfaces and lamps\n",
    "akj = compute_akj(r_kj, theta_k)\n",
    "\n",
    "# Define objective function with a small epsilon to avoid log(0)\n",
    "epsilon = 1e-10\n",
    "\n",
    "# Define objective function for the simplified case where pj = p for all lamps\n",
    "def objective(p):\n",
    "    Ik = np.dot(akj, np.full(m, p))  # Ik = sum of akj * p\n",
    "    Ik = np.maximum(Ik, epsilon)     # Prevent Ik from being zero or negative\n",
    "    return np.max(np.abs(np.log(Ik) - np.log(Ides)))\n",
    "\n",
    "# Bounds for the power p: [0, pmax]\n",
    "bounds = [(0, pmax)]\n",
    "\n",
    "# Initial guess for p\n",
    "initial_p = [pmax / 2]\n",
    "\n",
    "# Solve the optimization problem\n",
    "result = minimize(objective, initial_p, bounds=bounds)\n",
    "\n",
    "# Output the result\n",
    "optimal_p = result.x[0]\n",
    "optimal_cost = result.fun\n",
    "Ik_optimal = np.dot(akj, np.full(m, optimal_p))\n",
    "print(f\"Optimal power p: {optimal_p}\")\n",
    "print(f\"Minimum cost: {optimal_cost}\")\n",
    "print(f\"Intensity values Ik: {Ik_optimal}\")"
   ]
  },
  {
   "cell_type": "markdown",
   "metadata": {},
   "source": [
    "## 3.2"
   ]
  },
  {
   "cell_type": "code",
   "execution_count": 3,
   "metadata": {},
   "outputs": [
    {
     "name": "stdout",
     "output_type": "stream",
     "text": [
      "Optimal power values: [ 0.48225084  0.         21.780321    5.72216085 21.69659602]\n",
      "Minimum cost: 0.3916786339973056\n",
      "Intensity values Ik: [50.28896898 50.32918087 50.27798274 50.26968271 50.22318681]\n"
     ]
    }
   ],
   "source": [
    "# Define the least squares objective function for the unconstrained problem\n",
    "def least_squares_objective(p):\n",
    "    Ik = np.dot(akj, p)  # Ik = sum of akj * pj\n",
    "    return np.sum((Ik - Ides) ** 2)\n",
    "\n",
    "# Initial guess for p (for all lamps)\n",
    "initial_p_unconstrained = np.full(m, pmax / 2)\n",
    "\n",
    "# Solve the unconstrained least squares problem\n",
    "result_ls = minimize(least_squares_objective, initial_p_unconstrained)\n",
    "\n",
    "# Extract the solution\n",
    "optimal_p_ls = result_ls.x\n",
    "\n",
    "# Apply the constraints \n",
    "optimal_p_ls = np.clip(optimal_p_ls, 0, pmax)  # Ensure 0 <= pj <= pmax\n",
    "Ik_ls = np.dot(akj, optimal_p_ls)\n",
    "min_cost_ls = least_squares_objective(optimal_p_ls)\n",
    "\n",
    "# Prints \n",
    "print(f\"Optimal power values: {optimal_p_ls}\")\n",
    "print(f\"Minimum cost: {min_cost_ls}\")\n",
    "print(f\"Intensity values Ik: {Ik_ls}\")\n"
   ]
  },
  {
   "cell_type": "markdown",
   "metadata": {},
   "source": [
    "## 3.3"
   ]
  },
  {
   "cell_type": "code",
   "execution_count": 4,
   "metadata": {},
   "outputs": [
    {
     "name": "stdout",
     "output_type": "stream",
     "text": [
      "Optimal power values after weighted least squares: [11.61368366 11.36266886  9.60798787 12.12047823 13.14451174]\n",
      "Intensity values Ik: [60.47374298 57.22162447 57.83770223 58.57942925 53.96498055]\n",
      "Number of iterations: 0\n"
     ]
    }
   ],
   "source": [
    "# Define the weighted least squares objective function with penalty for pj deviations\n",
    "def weighted_least_squares_objective(p, w):\n",
    "    Ik = np.dot(akj, p)  # Ik = sum of akj * pj\n",
    "    penalty = np.sum(w * (p - pmax / 2) ** 2)  # Penalize deviations from pmax/2\n",
    "    return np.sum((Ik - Ides) ** 2) + penalty\n",
    "\n",
    "# Initialize weights\n",
    "w = np.ones(m)\n",
    "\n",
    "# Define the update function for weights\n",
    "def update_weights(p, w, alpha=10):\n",
    "    # Increase the weight where pj violates the bounds\n",
    "    w_new = w.copy()\n",
    "    w_new[p < 0] += alpha * np.abs(p[p < 0])  # Increase weight for pj < 0\n",
    "    w_new[p > pmax] += alpha * (p[p > pmax] - pmax)  # Increase weight for pj > pmax\n",
    "    return w_new\n",
    "\n",
    "# Iterative process\n",
    "tolerance = 1e-3\n",
    "max_iterations = 100\n",
    "iteration = 0\n",
    "\n",
    "while iteration < max_iterations:\n",
    "    # Solve the weighted least squares problem for the current weights\n",
    "    result_ls_weighted = minimize(weighted_least_squares_objective, initial_p_unconstrained, args=(w,))\n",
    "    \n",
    "    # Get the current solution\n",
    "    optimal_p_weighted = result_ls_weighted.x\n",
    "    \n",
    "    # Check if all pj are within bounds\n",
    "    if np.all(optimal_p_weighted >= 0) and np.all(optimal_p_weighted <= pmax):\n",
    "        break  # Solution is feasible, stop the iterations\n",
    "    \n",
    "    # Update the weights for the next iteration\n",
    "    w = update_weights(optimal_p_weighted, w)\n",
    "    \n",
    "    iteration += 1\n",
    "\n",
    "\n",
    "# Compute the intensity values Ik\n",
    "Ik_weighted = np.dot(akj, optimal_p_weighted)\n",
    "# Compute the minimum cost using the final solution\n",
    "min_cost_weighted = weighted_least_squares_objective(optimal_p_weighted, w)\n",
    "print(f\"Optimal power values after weighted least squares: {optimal_p_weighted}\")\n",
    "print(f\"Intensity values Ik: {Ik_weighted}\")\n",
    "print(f\"Number of iterations: {iteration}\")\n"
   ]
  },
  {
   "cell_type": "markdown",
   "metadata": {},
   "source": [
    "## 3.4"
   ]
  },
  {
   "cell_type": "code",
   "execution_count": 5,
   "metadata": {},
   "outputs": [
    {
     "name": "stdout",
     "output_type": "stream",
     "text": [
      "Optimal power values (p): [ 0.70224821  0.         21.54492377  5.48070082 21.68897639]\n",
      "Optimal maximum deviation (t): 0.02238160626097141\n",
      "Intensity values Ik: [50.02238161 50.02238161 50.02238161 49.97761839 49.97761839]\n"
     ]
    }
   ],
   "source": [
    "from scipy.optimize import linprog\n",
    "\n",
    "# Prepare linear programming matrices\n",
    "c = np.zeros(m + 1)  # Objective function coefficients (min t), p1, p2, ..., pm\n",
    "c[-1] = 1  # We minimize 't'\n",
    "\n",
    "A_ub = []  # Inequality constraints matrix\n",
    "b_ub = []  # Inequality constraints vector\n",
    "\n",
    "# Add constraints for each surface k\n",
    "for k in range(n):\n",
    "    # I_k - I_des <= t\n",
    "    A_ub.append(np.append(akj[k], -1))  # akj * p - t <= Ides\n",
    "    b_ub.append(Ides)\n",
    "    \n",
    "    # I_des - I_k <= t\n",
    "    A_ub.append(np.append(-akj[k], -1))  # -akj * p - t <= -Ides\n",
    "    b_ub.append(-Ides)\n",
    "\n",
    "# Convert to numpy arrays\n",
    "A_ub = np.array(A_ub)\n",
    "b_ub = np.array(b_ub)\n",
    "\n",
    "# Bounds for each pj (0 <= pj <= pmax) and t (no bound on t)\n",
    "bounds = [(0, pmax)] * m + [(None, None)]  # Bounds for pj and t\n",
    "\n",
    "# Solve the linear programming problem\n",
    "result_lp = linprog(c, A_ub=A_ub, b_ub=b_ub, bounds=bounds, method='highs')\n",
    "\n",
    "# Extract the solution\n",
    "optimal_p_lp = result_lp.x[:-1]  # The p_j values (excluding t)\n",
    "optimal_t = result_lp.x[-1]      # The optimal t value (max deviation)\n",
    "# Compute the intensity values Ik\n",
    "Ik_lp = np.dot(akj, optimal_p_lp)\n",
    "\n",
    "print(f\"Optimal power values (p): {optimal_p_lp}\")\n",
    "print(f\"Optimal maximum deviation (t): {optimal_t}\")\n",
    "print(f\"Intensity values Ik: {Ik_lp}\")\n"
   ]
  },
  {
   "cell_type": "markdown",
   "metadata": {},
   "source": [
    "## 3.5"
   ]
  },
  {
   "cell_type": "code",
   "execution_count": 6,
   "metadata": {},
   "outputs": [
    {
     "name": "stdout",
     "output_type": "stream",
     "text": [
      "Optimal power values (p): [15.13667617 20.01064388 15.77915926 20.38811373 25.81652136]\n",
      "Optimal maximum deviation (t): 1.0000000000287557e-06\n",
      "Intensity values Ik: [100.00008101  96.57569541  98.33764798  97.58583776  91.43685354]\n"
     ]
    }
   ],
   "source": [
    "# Define the objective function to minimize 't' based on the reformulated problem\n",
    "def convex_objective(p_and_t):\n",
    "    # Extract the variables p and t\n",
    "    p = p_and_t[:-1]\n",
    "    t = p_and_t[-1]\n",
    "    \n",
    "    return t  # We minimize 't'\n",
    "\n",
    "# Define constraints for the problem\n",
    "def convex_constraints(p_and_t):\n",
    "    p = p_and_t[:-1]\n",
    "    t = p_and_t[-1]\n",
    "    \n",
    "    constraints = []\n",
    "    for k in range(n):\n",
    "        # Constraint: sum(akj * pj) <= t * Ides\n",
    "        constraints.append(np.dot(akj[k], p) - t * Ides)\n",
    "        \n",
    "        # Constraint: sum(akj * pj) >= Ides / t\n",
    "        constraints.append(Ides / t - np.dot(akj[k], p))\n",
    "    \n",
    "    return np.array(constraints)\n",
    "\n",
    "# Initial guess for p and t\n",
    "initial_p_and_t = np.append(np.full(m, pmax / 2), 1.0)  # p starts at pmax/2, t starts at 1\n",
    "\n",
    "# Define bounds for p and t\n",
    "bounds_convex = [(0, pmax)] * m + [(1e-6, None)]  # 0 <= p_j <= pmax, t >= 0\n",
    "\n",
    "# Solve the convex optimization problem\n",
    "result_convex = minimize(convex_objective, initial_p_and_t, bounds=bounds_convex, constraints={'type': 'ineq', 'fun': convex_constraints})\n",
    "\n",
    "# Extract the solution\n",
    "optimal_p_convex = result_convex.x[:-1]  # The p_j values (excluding t)\n",
    "optimal_t_convex = result_convex.x[-1]   # The optimal t value\n",
    "# Compute the intensity values Ik\n",
    "Ik_convex = np.dot(akj, optimal_p_convex)\n",
    "\n",
    "print(f\"Optimal power values (p): {optimal_p_convex}\")\n",
    "print(f\"Optimal maximum deviation (t): {optimal_t_convex}\")\n",
    "print(f\"Intensity values Ik: {Ik_convex}\")"
   ]
  }
 ],
 "metadata": {
  "kernelspec": {
   "display_name": "Python 3",
   "language": "python",
   "name": "python3"
  },
  "language_info": {
   "codemirror_mode": {
    "name": "ipython",
    "version": 3
   },
   "file_extension": ".py",
   "mimetype": "text/x-python",
   "name": "python",
   "nbconvert_exporter": "python",
   "pygments_lexer": "ipython3",
   "version": "3.11.0"
  }
 },
 "nbformat": 4,
 "nbformat_minor": 2
}
