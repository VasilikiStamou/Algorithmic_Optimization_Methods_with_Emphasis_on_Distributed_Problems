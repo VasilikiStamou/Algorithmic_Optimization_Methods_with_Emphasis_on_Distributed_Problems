{
 "cells": [
  {
   "cell_type": "code",
   "execution_count": 1,
   "metadata": {},
   "outputs": [
    {
     "name": "stdout",
     "output_type": "stream",
     "text": [
      "Optimal solution x*: [-0.17997322  0.0125382 ]\n"
     ]
    }
   ],
   "source": [
    "import numpy as np\n",
    "from scipy.linalg import inv\n",
    "from scipy.optimize import minimize\n",
    "\n",
    "# Define the rotation matrix L(theta)\n",
    "def L(theta):\n",
    "    return np.array([[np.cos(theta), -np.sin(theta)], [np.sin(theta), np.cos(theta)]])\n",
    "\n",
    "# Define the diagonal matrix D(gamma)\n",
    "def D(gamma):\n",
    "    return np.diag([gamma, 1/gamma])\n",
    "\n",
    "# Define the parameters for each node\n",
    "i_values = np.arange(1, 5)  # This creates an array [1, 2, 3, 4]\n",
    "# Compute θ_i = i * π / 4\n",
    "theta_values = i_values * (np.pi / 4)\n",
    "# Compute γ_i = 1/2^i\n",
    "gamma_values = 1/(2**i_values)\n",
    "\n",
    "# Calculate A_i and b_i for each node\n",
    "A_matrices = [L(theta_values[i]).dot(D(gamma_values[i])).dot(inv(L(theta_values[i]))) for i in range(4)]\n",
    "b_vectors = [(L(np.pi/8)**i).dot(np.array([[1], [0]])) for i in i_values]\n",
    "\n",
    "# Define the overall cost function to be minimized\n",
    "def cost_function(x):\n",
    "    x = np.array(x).reshape(-1, 1)\n",
    "    cost = 0\n",
    "    for i in range(4):\n",
    "        cost += x.T.dot(A_matrices[i]).dot(x) + b_vectors[i].T.dot(x)    \n",
    "    return cost.flatten()[0]\n",
    "\n",
    "# Initial guess for the optimizer\n",
    "x0 = np.zeros((2,))\n",
    "\n",
    "# Minimize the cost function\n",
    "result = minimize(cost_function, x0)\n",
    "\n",
    "# Optimal solution\n",
    "x_star = result.x\n",
    "\n",
    "print(f\"Optimal solution x*: {x_star}\")"
   ]
  }
 ],
 "metadata": {
  "kernelspec": {
   "display_name": "Python 3",
   "language": "python",
   "name": "python3"
  },
  "language_info": {
   "codemirror_mode": {
    "name": "ipython",
    "version": 3
   },
   "file_extension": ".py",
   "mimetype": "text/x-python",
   "name": "python",
   "nbconvert_exporter": "python",
   "pygments_lexer": "ipython3",
   "version": "3.11.0"
  }
 },
 "nbformat": 4,
 "nbformat_minor": 2
}
