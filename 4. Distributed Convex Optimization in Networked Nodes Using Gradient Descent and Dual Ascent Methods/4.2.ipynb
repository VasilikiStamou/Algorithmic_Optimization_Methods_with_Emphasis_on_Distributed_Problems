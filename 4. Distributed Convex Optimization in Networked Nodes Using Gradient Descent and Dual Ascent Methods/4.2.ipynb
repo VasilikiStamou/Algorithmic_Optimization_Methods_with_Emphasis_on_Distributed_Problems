{
 "cells": [
  {
   "cell_type": "code",
   "execution_count": 1,
   "metadata": {},
   "outputs": [
    {
     "name": "stdout",
     "output_type": "stream",
     "text": [
      "Weight Matrix W:\n",
      "[[0.  0.5 0.5 0. ]\n",
      " [0.5 0.  0.  0.5]\n",
      " [0.5 0.  0.  0.5]\n",
      " [0.  0.5 0.5 0. ]]\n",
      "\n",
      "Incidence Matrix B:\n",
      "[[ 0.70710678 -0.70710678  0.          0.        ]\n",
      " [ 0.          0.70710678  0.         -0.70710678]\n",
      " [ 0.          0.         -0.70710678  0.70710678]\n",
      " [-0.70710678  0.          0.70710678  0.        ]]\n",
      "\n",
      "Laplacian Matrix L:\n",
      "[[ 1.  -0.5 -0.5  0. ]\n",
      " [-0.5  1.   0.  -0.5]\n",
      " [-0.5  0.   1.  -0.5]\n",
      " [ 0.  -0.5 -0.5  1. ]]\n"
     ]
    }
   ],
   "source": [
    "import numpy as np\n",
    "\n",
    "# Adjacency list for the graph (undirected)\n",
    "adj_list = {\n",
    "    0: [1, 2],  # Neighbors of node 0\n",
    "    1: [0, 3],  # Neighbors of node 1\n",
    "    2: [0, 3],  # Neighbors of node 2\n",
    "    3: [1, 2]   # Neighbors of node 3\n",
    "}\n",
    "\n",
    "# Number of nodes\n",
    "n = 4\n",
    "\n",
    "# Initialize the weight matrix W\n",
    "W = np.zeros((n, n))\n",
    "\n",
    "# Calculate the weight matrix W\n",
    "for i in range(n):\n",
    "    neighbors = adj_list[i]\n",
    "    weight = 1 / len(neighbors)  # Calculate weight based on number of neighbors\n",
    "    for j in neighbors:\n",
    "        W[i, j] = weight\n",
    "\n",
    "\n",
    "# Create the incidence matrix B\n",
    "# For a graph with 4 edges (since it's a square graph)\n",
    "edges = [(0, 1), (1, 3), (3, 2), (2, 0)]\n",
    "m = len(edges)\n",
    "\n",
    "\n",
    "# Compute the incidence matrix B\n",
    "B = np.zeros((m, n))\n",
    "for idx, (i, j) in enumerate(edges):\n",
    "    weight = np.sqrt(W[i, j])  # Calculate sqrt of the weight\n",
    "    B[idx, i] = weight\n",
    "    B[idx, j] = -weight\n",
    "\n",
    "# Calculate the Laplacian matrix L\n",
    "Lambda = B.T @ B\n",
    "\n",
    "# Print the matrices\n",
    "print(\"Weight Matrix W:\")\n",
    "print(W)\n",
    "print(\"\\nIncidence Matrix B:\")\n",
    "print(B)\n",
    "print(\"\\nLaplacian Matrix L:\")\n",
    "print(Lambda)"
   ]
  }
 ],
 "metadata": {
  "kernelspec": {
   "display_name": "Python 3",
   "language": "python",
   "name": "python3"
  },
  "language_info": {
   "codemirror_mode": {
    "name": "ipython",
    "version": 3
   },
   "file_extension": ".py",
   "mimetype": "text/x-python",
   "name": "python",
   "nbconvert_exporter": "python",
   "pygments_lexer": "ipython3",
   "version": "3.11.0"
  }
 },
 "nbformat": 4,
 "nbformat_minor": 2
}
